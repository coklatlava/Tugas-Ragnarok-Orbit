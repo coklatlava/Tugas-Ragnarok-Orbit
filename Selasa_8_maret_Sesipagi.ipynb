{
 "cells": [
  {
   "cell_type": "code",
   "execution_count": 1,
   "id": "ebd8f903",
   "metadata": {},
   "outputs": [],
   "source": [
    "import numpy as np"
   ]
  },
  {
   "cell_type": "markdown",
   "id": "27ba6a91",
   "metadata": {},
   "source": [
    "# Latihan 2"
   ]
  },
  {
   "cell_type": "code",
   "execution_count": 2,
   "id": "6b0cc54a",
   "metadata": {},
   "outputs": [
    {
     "name": "stdout",
     "output_type": "stream",
     "text": [
      "[[1 2 3]\n",
      " [4 5 6]\n",
      " [7 8 9]] \n",
      "\n",
      "banyaknya entry =  9\n",
      "dimensi array =  2\n",
      "ukuran array =  (3, 3) \n",
      "\n"
     ]
    }
   ],
   "source": [
    "A = np.array([[1, 2, 3], [4, 5, 6], [7, 8, 9]])\n",
    "print(A, \"\\n\")\n",
    "#Lengkapi kodingan berikut\n",
    "print('banyaknya entry = ', A.size)\n",
    "print('dimensi array = ', A.ndim)\n",
    "print('ukuran array = ', A.shape, \"\\n\")"
   ]
  },
  {
   "cell_type": "markdown",
   "id": "91cb2257",
   "metadata": {},
   "source": [
    "# Latihan 3"
   ]
  },
  {
   "cell_type": "code",
   "execution_count": 4,
   "id": "ff221cb9",
   "metadata": {},
   "outputs": [
    {
     "name": "stdout",
     "output_type": "stream",
     "text": [
      "baris ke-3 = [7 8 9]\n",
      "entry ke-1 & 2 baris ke-3 =  [7 8]\n",
      "entry ke-2 & 3 kolom ke-3 = \n",
      " [[6]\n",
      " [9]]\n"
     ]
    }
   ],
   "source": [
    "#Lengkapi kodingan berikut\n",
    "print('baris ke-3 =', A[2])\n",
    "print('entry ke-1 & 2 baris ke-3 = ', A[2][0:2])\n",
    "print('entry ke-2 & 3 kolom ke-3 = \\n', A[1:3,2:]) #Baris 1-2 kolom >= 2"
   ]
  },
  {
   "cell_type": "markdown",
   "id": "48c0a637",
   "metadata": {},
   "source": [
    "# Latihan 4"
   ]
  },
  {
   "cell_type": "code",
   "execution_count": 7,
   "id": "bb9609eb",
   "metadata": {},
   "outputs": [
    {
     "name": "stdout",
     "output_type": "stream",
     "text": [
      "Hasil 2xA : \n",
      " [[ 2  4]\n",
      " [14 16]]\n",
      "Hasil 2+A : \n",
      " [[ 3  4]\n",
      " [ 9 10]]\n",
      "HasilA+B : \n",
      " [[ 4  7]\n",
      " [ 8 14]]\n",
      "HasilA-B : \n",
      " [[-2 -3]\n",
      " [ 6  2]]\n",
      "Hasil det(A) : \n",
      "  -6.0\n"
     ]
    }
   ],
   "source": [
    "A = np.array([[1, 2], [7,8]])\n",
    "B = np.array([[3, 5], [1,6]])\n",
    "print(\"Hasil 2xA : \\n\", 2*A)\n",
    "print(\"Hasil 2+A : \\n\", 2+A)\n",
    "print(\"HasilA+B : \\n\", A+B)\n",
    "print(\"HasilA-B : \\n\", A-B)\n",
    "print(\"Hasil det(A) : \\n \", np.linalg.det(A))"
   ]
  },
  {
   "cell_type": "code",
   "execution_count": 8,
   "id": "68658ef5",
   "metadata": {},
   "outputs": [
    {
     "name": "stdout",
     "output_type": "stream",
     "text": [
      "D :\n",
      " [[ 0.46153846 -0.38461538]\n",
      " [-0.07692308  0.23076923]] \n",
      "\n",
      "D^T : \n",
      " [[ 0.46153846 -0.07692308]\n",
      " [-0.38461538  0.23076923]] \n",
      "\n",
      "Eigen Value A : [-0.62347538  9.62347538]\n",
      "Eigen Vector A:\n",
      " [[-0.77640358 -0.22592838]\n",
      " [ 0.63023605 -0.97414391]] \n",
      "\n",
      "Eigen Value B : [1.8074176 7.1925824]\n",
      "Eigen Vector B:\n",
      " [[-0.97271381 -0.76626443]\n",
      " [ 0.23200828 -0.64252535]]\n"
     ]
    }
   ],
   "source": [
    "#invers dari B, simpan jadi matriks D\n",
    "D = np.linalg.inv(B)\n",
    "print(\"D :\\n\",D, \"\\n\")\n",
    "\n",
    "#transpose D\n",
    "print(\"D^T : \\n\", D.transpose(), \"\\n\")\n",
    "\n",
    "#nilai eigen dan vektor eigen dari A dan B\n",
    "print(\"Eigen Value A :\", np.linalg.eig(A)[0])\n",
    "print(\"Eigen Vector A:\\n\", np.linalg.eig(A)[1],\"\\n\")\n",
    "print(\"Eigen Value B :\", np.linalg.eig(B)[0])\n",
    "print(\"Eigen Vector B:\\n\", np.linalg.eig(B)[1])"
   ]
  },
  {
   "cell_type": "markdown",
   "id": "5eec3a14",
   "metadata": {},
   "source": [
    "### Apa perbedaan dari B*D (perkalian antar entry di B dan D) dan BD (perkalian matriks B dan D)?"
   ]
  },
  {
   "cell_type": "code",
   "execution_count": 9,
   "id": "352d2fc4",
   "metadata": {},
   "outputs": [
    {
     "name": "stdout",
     "output_type": "stream",
     "text": [
      "BxD : \n",
      " [[ 1.38461538 -1.92307692]\n",
      " [-0.07692308  1.38461538]]\n",
      "BxD : \n",
      " [[1.00000000e+00 0.00000000e+00]\n",
      " [5.55111512e-17 1.00000000e+00]]\n"
     ]
    }
   ],
   "source": [
    "print(\"BxD : \\n\",B*D)\n",
    "print(\"BxD : \\n\",np.matmul(B,D))"
   ]
  },
  {
   "cell_type": "markdown",
   "id": "9ba9dacb",
   "metadata": {},
   "source": [
    "Perbedaan perkalian entry yang kemudian dikalikan pada bilangan baris 1 di matriks B dikalikan bilangan pada baris 1 matriks D, namun pada kolom 2 matriks B akan dikalikan kolom 2 matriks D. Sedangkan perkalian matriks yang dikalikan merupakan matrik baris B dengan kolom matrik D dan kolom matriks B dengan baris matrik D"
   ]
  }
 ],
 "metadata": {
  "kernelspec": {
   "display_name": "Python 3 (ipykernel)",
   "language": "python",
   "name": "python3"
  },
  "language_info": {
   "codemirror_mode": {
    "name": "ipython",
    "version": 3
   },
   "file_extension": ".py",
   "mimetype": "text/x-python",
   "name": "python",
   "nbconvert_exporter": "python",
   "pygments_lexer": "ipython3",
   "version": "3.9.7"
  }
 },
 "nbformat": 4,
 "nbformat_minor": 5
}

{
 "cells": [
  {
   "cell_type": "markdown",
   "id": "68d35719",
   "metadata": {},
   "source": [
    "# Tugas Sesi Pagi\n",
    "## Buatlah 3 OOP beserta turunannya dari objek sekitar, buat ulang seperti yang diatas (encapsulation, abstaction, inheritance, polymorphism)"
   ]
  },
  {
   "cell_type": "markdown",
   "id": "16386b21",
   "metadata": {},
   "source": [
    "# Encapsulation"
   ]
  },
  {
   "cell_type": "code",
   "execution_count": 40,
   "id": "eeb604c3",
   "metadata": {},
   "outputs": [
    {
     "name": "stdout",
     "output_type": "stream",
     "text": [
      "merk: GTR, warna: hitam, barang :Mobil, horsepower : 500hp\n",
      "Nissan Skyline GTR...\n"
     ]
    }
   ],
   "source": [
    "merk= \"GTR\"\n",
    "warna= \"hitam\"\n",
    "barang = \"Mobil\"\n",
    "horsepower = \" 500hp\"\n",
    "\n",
    "def GTR():\n",
    "    print(\"Nissan Skyline GTR...\")\n",
    "    \n",
    "def info_GTR(merk,warna,barang,horsepower):\n",
    "    print(f\"merk: {merk}, warna: {warna}, barang :{barang}, horsepower :{horsepower}\") \n",
    "\n",
    "info_GTR(merk,warna,barang,horsepower)\n",
    "GTR()"
   ]
  },
  {
   "cell_type": "code",
   "execution_count": 48,
   "id": "a6b1cdf7",
   "metadata": {
    "scrolled": true
   },
   "outputs": [
    {
     "name": "stdout",
     "output_type": "stream",
     "text": [
      "merk: Skyline-GTR, warna: Hitam, barang: Mobil, horsepower :500HP\n",
      "Barang Skyline-GTR\n"
     ]
    }
   ],
   "source": [
    "class Mobil(object):\n",
    "    \n",
    "    nama_mobil = \"\"\n",
    "    def __init__(gtr, input_merk, input_warna, input_barang, input_horsepower):\n",
    "        gtr.merk = input_merk\n",
    "        gtr.warna = input_warna\n",
    "        gtr.barang = input_barang\n",
    "        gtr.horsepower = input_horsepower\n",
    "        Mobil.nama_mobil = input_merk\n",
    "\n",
    "    def GTR(gtr):\n",
    "        print(\"Barang\", gtr.merk)\n",
    "\n",
    "    def info(gtr):\n",
    "        print(f\"merk: {gtr.merk}, warna: {gtr.warna}, barang: {gtr.barang}, horsepower :{gtr.horsepower}\")\n",
    "\n",
    "\n",
    "mobil1 = Mobil(\"Skyline-GTR\", \"Hitam\", \"Mobil\", \"500HP\")\n",
    "\n",
    "mobil1.info()\n",
    "mobil1.GTR()"
   ]
  },
  {
   "cell_type": "code",
   "execution_count": 49,
   "id": "44468573",
   "metadata": {},
   "outputs": [
    {
     "name": "stdout",
     "output_type": "stream",
     "text": [
      "merk: Skyline-GTR, warna: Hitam, barang: Mobil, horsepower :500HP\n"
     ]
    }
   ],
   "source": [
    "mobil1.info()"
   ]
  },
  {
   "cell_type": "markdown",
   "id": "1be9d7a1",
   "metadata": {},
   "source": [
    "# Abstaction"
   ]
  },
  {
   "cell_type": "code",
   "execution_count": 15,
   "id": "b08a9216",
   "metadata": {},
   "outputs": [],
   "source": [
    "from abc import abstractmethod, ABC"
   ]
  },
  {
   "cell_type": "code",
   "execution_count": 17,
   "id": "589673e3",
   "metadata": {},
   "outputs": [],
   "source": [
    "class Mobil(ABC):\n",
    "    \n",
    "    @abstractmethod\n",
    "    def caramengemudi(self):\n",
    "        pass\n",
    "    \n",
    "class GTR(Mobil):\n",
    "    def caramengemudi(self):\n",
    "        print(\"Mobil ini bisa digunakan untuk Drag, Harian, maupun Drift.\\n\")\n",
    "        \n",
    "class Silvia(Mobil):\n",
    "    def caramengemudi(self):\n",
    "        print(\"Mobil ini dapat digunakan untuk harian namun lebih sering digunakan untuk ajang drift.\")"
   ]
  },
  {
   "cell_type": "code",
   "execution_count": 18,
   "id": "95f40050",
   "metadata": {},
   "outputs": [
    {
     "name": "stdout",
     "output_type": "stream",
     "text": [
      "Mobil ini bisa digunakan untuk Drag, Harian, maupun Drift.\n",
      "\n",
      "Mobil ini dapat digunakan untuk harian namun lebih sering digunakan untuk ajang drift.\n"
     ]
    }
   ],
   "source": [
    "gtr1=GTR()\n",
    "silvia1=Silvia()\n",
    "\n",
    "gtr1.caramengemudi()\n",
    "silvia1.caramengemudi()"
   ]
  },
  {
   "cell_type": "markdown",
   "id": "60f2a727",
   "metadata": {},
   "source": [
    "# Inheritance"
   ]
  },
  {
   "cell_type": "code",
   "execution_count": 21,
   "id": "84943cdd",
   "metadata": {},
   "outputs": [
    {
     "name": "stdout",
     "output_type": "stream",
     "text": [
      "merk: Nissan GTR, mesin: RB26, tahun :2000, horsepower :500HP\n"
     ]
    }
   ],
   "source": [
    "class Mobil(object):\n",
    "    \n",
    "    def __init__(mb, input_merk, input_mesin, input_tahun, input_horsepower):\n",
    "        mb.merk = input_merk\n",
    "        mb.mesin = input_mesin\n",
    "        mb.tahun = input_tahun\n",
    "        mb.horsepower=input_horsepower\n",
    "\n",
    "    def jm(mb, mob):\n",
    "        for x in range(mob):\n",
    "            print(\" 6inline\")\n",
    "\n",
    "    def info(mb):\n",
    "        print(f\"merk: {mb.merk}, mesin: {mb.mesin}, tahun :{mb.tahun}, horsepower :{mb.horsepower}\")\n",
    "\n",
    "\n",
    "mobil1 = Mobil(\"Nissan GTR\", \"RB26\", \"2000\", \"500HP\")\n",
    "\n",
    "mobil1.info()"
   ]
  },
  {
   "cell_type": "markdown",
   "id": "81423760",
   "metadata": {},
   "source": [
    "### Custom module"
   ]
  },
  {
   "cell_type": "markdown",
   "id": "e5661155",
   "metadata": {},
   "source": [
    "# Polymorphism"
   ]
  },
  {
   "cell_type": "code",
   "execution_count": 27,
   "id": "49ac9bba",
   "metadata": {},
   "outputs": [],
   "source": [
    "import mobil as mob"
   ]
  },
  {
   "cell_type": "code",
   "execution_count": 28,
   "id": "1c2bc9b6",
   "metadata": {},
   "outputs": [],
   "source": [
    "class mobil(object):\n",
    "    def __init__(self, jenis, tahun, mesin):\n",
    "        self.jenis = jenis\n",
    "        self.tahun = tahun\n",
    "        self.mesin = mesin\n",
    "    \n",
    "    def h(self, durasi):\n",
    "        for i in range(durasi):\n",
    "            print(\"jenis \")\n",
    "            \n",
    "    def info(self):\n",
    "        print(f\"jenis: {self.jenis}\\nTahun: {self.tahun}\\nMesin: {self.mesin}\")\n",
    "\n",
    "        \n",
    "class GTR(mobil):\n",
    "    def __init__(self, jenis, tahun, mesin, keturunan):\n",
    "        super().__init__(jenis, tahun, mesin)\n",
    "        self.keturunan= keturunan\n",
    "        \n",
    "        \n",
    "    def ab(self, durasi):\n",
    "        for i in range(durasi):\n",
    "            print(\"stututututututu.\")"
   ]
  },
  {
   "cell_type": "code",
   "execution_count": 32,
   "id": "68ad4b0d",
   "metadata": {},
   "outputs": [
    {
     "name": "stdout",
     "output_type": "stream",
     "text": [
      "jenis: Skyline-GTR\n",
      "Tahun: 2000\n",
      "Mesin: RB-26\n"
     ]
    }
   ],
   "source": [
    "mobil1 = GTR(\"Skyline-GTR\", \"2000\", \"RB-26\", \"NISSAN SKYLINE\")\n",
    "\n",
    "mobil1.info()"
   ]
  },
  {
   "cell_type": "markdown",
   "id": "c547cb15",
   "metadata": {},
   "source": [
    "# Inhertiance"
   ]
  },
  {
   "cell_type": "code",
   "execution_count": 33,
   "id": "a53d8b0c",
   "metadata": {},
   "outputs": [
    {
     "name": "stdout",
     "output_type": "stream",
     "text": [
      "merk: Nissan GTR, mesin: RB26, tahun :2000, horsepower :500HP\n"
     ]
    }
   ],
   "source": [
    "mobil1 = Mobil(\"Nissan GTR\", \"RB26\", \"2000\", \"500HP\")\n",
    "\n",
    "mobil1.info()"
   ]
  },
  {
   "cell_type": "markdown",
   "id": "f28dd83f",
   "metadata": {},
   "source": [
    "# Encapsulation"
   ]
  },
  {
   "cell_type": "code",
   "execution_count": 45,
   "id": "67c45c97",
   "metadata": {},
   "outputs": [
    {
     "name": "stdout",
     "output_type": "stream",
     "text": [
      "merk: GTR, warna: hitam, barang :Mobil, horsepower : 500hp\n",
      "Nissan Skyline GTR...\n"
     ]
    }
   ],
   "source": [
    "info_GTR(merk,warna,barang,horsepower)\n",
    "GTR()"
   ]
  },
  {
   "cell_type": "markdown",
   "id": "dd7662ab",
   "metadata": {},
   "source": [
    "# Abstaction"
   ]
  },
  {
   "cell_type": "code",
   "execution_count": 36,
   "id": "db1ba32d",
   "metadata": {},
   "outputs": [
    {
     "name": "stdout",
     "output_type": "stream",
     "text": [
      "Mobil ini bisa digunakan untuk Drag, Harian, maupun Drift.\n",
      "\n",
      "Mobil ini dapat digunakan untuk harian namun lebih sering digunakan untuk ajang drift.\n"
     ]
    }
   ],
   "source": [
    "gtr1.caramengemudi()\n",
    "silvia1.caramengemudi()"
   ]
  },
  {
   "cell_type": "code",
   "execution_count": null,
   "id": "707767bd",
   "metadata": {},
   "outputs": [],
   "source": []
  }
 ],
 "metadata": {
  "kernelspec": {
   "display_name": "Python 3 (ipykernel)",
   "language": "python",
   "name": "python3"
  },
  "language_info": {
   "codemirror_mode": {
    "name": "ipython",
    "version": 3
   },
   "file_extension": ".py",
   "mimetype": "text/x-python",
   "name": "python",
   "nbconvert_exporter": "python",
   "pygments_lexer": "ipython3",
   "version": "3.9.7"
  }
 },
 "nbformat": 4,
 "nbformat_minor": 5
}

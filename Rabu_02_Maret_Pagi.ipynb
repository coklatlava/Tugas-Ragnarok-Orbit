{
  "nbformat": 4,
  "nbformat_minor": 0,
  "metadata": {
    "colab": {
      "name": "Untitled3.ipynb",
      "provenance": [],
      "collapsed_sections": []
    },
    "kernelspec": {
      "name": "python3",
      "display_name": "Python 3"
    },
    "language_info": {
      "name": "python"
    }
  },
  "cells": [
    {
      "cell_type": "markdown",
      "source": [
        "NOMOR 1"
      ],
      "metadata": {
        "id": "KBH6K_P6c9da"
      }
    },
    {
      "cell_type": "code",
      "source": [
        "a = False\n",
        "b = True\n",
        "c = False\n",
        "\n",
        "print(b and c)\n",
        "print(b or c)\n",
        "print(not a and b)\n",
        "print((a and b) or not c)\n",
        "print(not b and not c (a or c))"
      ],
      "metadata": {
        "id": "jqpm_emgc9IO",
        "outputId": "a9344791-c6f5-4ae8-8fd3-45e3111d8a62",
        "colab": {
          "base_uri": "https://localhost:8080/"
        }
      },
      "execution_count": 19,
      "outputs": [
        {
          "output_type": "stream",
          "name": "stdout",
          "text": [
            "False\n",
            "True\n",
            "True\n",
            "True\n",
            "False\n"
          ]
        }
      ]
    },
    {
      "cell_type": "markdown",
      "source": [
        "NOMOR 2"
      ],
      "metadata": {
        "id": "0Y2RKktGUZg_"
      }
    },
    {
      "cell_type": "code",
      "source": [
        "print('Hello!')\n",
        "something = input(\"Enter something: \")\n",
        "print(('You entered: ', something))"
      ],
      "metadata": {
        "colab": {
          "base_uri": "https://localhost:8080/"
        },
        "id": "Qy20IVvXPu3x",
        "outputId": "3f88d63b-0bac-4e68-803d-d8974c864b75"
      },
      "execution_count": 15,
      "outputs": [
        {
          "output_type": "stream",
          "name": "stdout",
          "text": [
            "Hello!\n",
            "Enter something: Enuuu\n",
            "('You entered: ', 'Enuuu')\n"
          ]
        }
      ]
    },
    {
      "cell_type": "markdown",
      "source": [
        "NOMOR 3"
      ],
      "metadata": {
        "id": "R--A1v7EcmQ2"
      }
    },
    {
      "cell_type": "code",
      "source": [
        "print('Hallo!')\n",
        "something = input(\"Enter something: \")\n",
        "if something == 'hello':\n",
        "  print(\"Hello for you too!\")\n",
        "\n",
        "elif something == 'hi':\n",
        "  print('Hi there')\n",
        "else:\n",
        "  print(\"I don't know what\", something, \"means.\")"
      ],
      "metadata": {
        "id": "SPbSBX7IcleL",
        "outputId": "f2d0a3fa-b908-41c4-9175-afc9024a98cf",
        "colab": {
          "base_uri": "https://localhost:8080/"
        }
      },
      "execution_count": 18,
      "outputs": [
        {
          "output_type": "stream",
          "name": "stdout",
          "text": [
            "Hallo!\n",
            "Enter something: hello\n",
            "Hello for you too!\n"
          ]
        }
      ]
    },
    {
      "cell_type": "markdown",
      "source": [
        "NOMOR 4"
      ],
      "metadata": {
        "id": "h9HnuWQTUdd-"
      }
    },
    {
      "cell_type": "code",
      "source": [
        "ulang = 100\n",
        "\n",
        "for i in range(ulang):\n",
        "    print(f\"Halo hai ke-{i}\")"
      ],
      "metadata": {
        "id": "VQMMK4_PSMGx",
        "outputId": "d7250b3e-99e1-4038-d36d-429a574dc8a6",
        "colab": {
          "base_uri": "https://localhost:8080/"
        }
      },
      "execution_count": 14,
      "outputs": [
        {
          "output_type": "stream",
          "name": "stdout",
          "text": [
            "Halo hai ke-0\n",
            "Halo hai ke-1\n",
            "Halo hai ke-2\n",
            "Halo hai ke-3\n",
            "Halo hai ke-4\n",
            "Halo hai ke-5\n",
            "Halo hai ke-6\n",
            "Halo hai ke-7\n",
            "Halo hai ke-8\n",
            "Halo hai ke-9\n",
            "Halo hai ke-10\n",
            "Halo hai ke-11\n",
            "Halo hai ke-12\n",
            "Halo hai ke-13\n",
            "Halo hai ke-14\n",
            "Halo hai ke-15\n",
            "Halo hai ke-16\n",
            "Halo hai ke-17\n",
            "Halo hai ke-18\n",
            "Halo hai ke-19\n",
            "Halo hai ke-20\n",
            "Halo hai ke-21\n",
            "Halo hai ke-22\n",
            "Halo hai ke-23\n",
            "Halo hai ke-24\n",
            "Halo hai ke-25\n",
            "Halo hai ke-26\n",
            "Halo hai ke-27\n",
            "Halo hai ke-28\n",
            "Halo hai ke-29\n",
            "Halo hai ke-30\n",
            "Halo hai ke-31\n",
            "Halo hai ke-32\n",
            "Halo hai ke-33\n",
            "Halo hai ke-34\n",
            "Halo hai ke-35\n",
            "Halo hai ke-36\n",
            "Halo hai ke-37\n",
            "Halo hai ke-38\n",
            "Halo hai ke-39\n",
            "Halo hai ke-40\n",
            "Halo hai ke-41\n",
            "Halo hai ke-42\n",
            "Halo hai ke-43\n",
            "Halo hai ke-44\n",
            "Halo hai ke-45\n",
            "Halo hai ke-46\n",
            "Halo hai ke-47\n",
            "Halo hai ke-48\n",
            "Halo hai ke-49\n",
            "Halo hai ke-50\n",
            "Halo hai ke-51\n",
            "Halo hai ke-52\n",
            "Halo hai ke-53\n",
            "Halo hai ke-54\n",
            "Halo hai ke-55\n",
            "Halo hai ke-56\n",
            "Halo hai ke-57\n",
            "Halo hai ke-58\n",
            "Halo hai ke-59\n",
            "Halo hai ke-60\n",
            "Halo hai ke-61\n",
            "Halo hai ke-62\n",
            "Halo hai ke-63\n",
            "Halo hai ke-64\n",
            "Halo hai ke-65\n",
            "Halo hai ke-66\n",
            "Halo hai ke-67\n",
            "Halo hai ke-68\n",
            "Halo hai ke-69\n",
            "Halo hai ke-70\n",
            "Halo hai ke-71\n",
            "Halo hai ke-72\n",
            "Halo hai ke-73\n",
            "Halo hai ke-74\n",
            "Halo hai ke-75\n",
            "Halo hai ke-76\n",
            "Halo hai ke-77\n",
            "Halo hai ke-78\n",
            "Halo hai ke-79\n",
            "Halo hai ke-80\n",
            "Halo hai ke-81\n",
            "Halo hai ke-82\n",
            "Halo hai ke-83\n",
            "Halo hai ke-84\n",
            "Halo hai ke-85\n",
            "Halo hai ke-86\n",
            "Halo hai ke-87\n",
            "Halo hai ke-88\n",
            "Halo hai ke-89\n",
            "Halo hai ke-90\n",
            "Halo hai ke-91\n",
            "Halo hai ke-92\n",
            "Halo hai ke-93\n",
            "Halo hai ke-94\n",
            "Halo hai ke-95\n",
            "Halo hai ke-96\n",
            "Halo hai ke-97\n",
            "Halo hai ke-98\n",
            "Halo hai ke-99\n"
          ]
        }
      ]
    },
    {
      "cell_type": "markdown",
      "source": [
        "NOMOR 5"
      ],
      "metadata": {
        "id": "yYF-nu5ocaZu"
      }
    },
    {
      "cell_type": "code",
      "source": [
        "from random import randint\n",
        "t = [\"Batu\", \"Kertas\", \"Gunting\"]\n",
        "computer = t[randint(0,2)]\n",
        "player = False\n",
        " \n",
        "while player == False:\n",
        "\n",
        "    player = input(\"Batu, Gunting, Kertas ? \")\n",
        "    if player == computer:\n",
        "        print(\"Seri!\")\n",
        "    elif player == \"Batu\":\n",
        "        if computer == \"Kertas\":\n",
        "            print(\"Anda Kalah!\", computer, \"menutup\", player)\n",
        "        else:\n",
        "            print(\"Anda Menang!\", player, \"memukul\", computer)\n",
        "    elif player == \"Kertas\":\n",
        "        if computer == \"Gunting\":\n",
        "            print(\"Anda Kalah!\", computer, \"memotong\", player)\n",
        "        else:\n",
        "            print(\"Anda Menang!\", player, \"menutup\", computer)\n",
        "    elif player == \"Gunting\":\n",
        "        if computer == \"Batu\":\n",
        "            print(\"Anda Kalah...\", computer, \"memukul\", player)\n",
        "        else:\n",
        "            print(\"Anda Menang!\", player, \"memotong\", computer)\n",
        "    else:\n",
        "        print(\"Input tidak valid!. Gunakan “batu”, “ gunting” dan “kertas” tanpa tanda kutip!\")\n",
        "\n",
        "    player = False\n",
        "    computer = t[randint(0,2)]"
      ],
      "metadata": {
        "id": "Qs1CEv8tcZAV"
      },
      "execution_count": null,
      "outputs": []
    },
    {
      "cell_type": "markdown",
      "source": [
        "NOMOR 6"
      ],
      "metadata": {
        "id": "3e81RE2ScYoh"
      }
    },
    {
      "cell_type": "code",
      "execution_count": null,
      "metadata": {
        "colab": {
          "base_uri": "https://localhost:8080/"
        },
        "id": "O0IpmmT_K7Ap",
        "outputId": "bb715b07-92a0-4d9e-88aa-569f8141c5a1"
      },
      "outputs": [
        {
          "output_type": "stream",
          "name": "stdout",
          "text": [
            "Lanjut atau berhenti ? lanjut\n",
            "Lanjut atau berhenti ? lanjut\n",
            "Lanjut atau berhenti ? lanjut\n",
            "Lanjut atau berhenti ? lanjut\n",
            "Lanjut atau berhenti ? berhenti\n",
            "Total perulagan: 5\n"
          ]
        }
      ],
      "source": [
        "jawab = 'lanjut'\n",
        "hitung = 0\n",
        "\n",
        "while(True):\n",
        "    hitung += 1\n",
        "    jawab = input(\"Lanjut atau berhenti ? \")\n",
        "    if jawab == 'berhenti':\n",
        "        break\n",
        "\n",
        "print(f\"Total perulagan: {hitung}\")"
      ]
    },
    {
      "cell_type": "markdown",
      "source": [
        "NOMOR 7"
      ],
      "metadata": {
        "id": "g6t-dG8xd4B9"
      }
    },
    {
      "cell_type": "code",
      "source": [
        "menu = \"y\" or \"Y\"\n",
        "while menu == \"y\" or \"Y\":\n",
        "    print(\" ========================================\")\n",
        "    print(\" Selamat Datang\")\n",
        "    print(\" List Jajanan Pasar\")\n",
        "    print(\" ========================================\")\n",
        "    print(\" 1. Donat               : Rp 1.250\")\n",
        "    print(\" 2. Bakwan              : Rp 1.000\")\n",
        "    print(\" 3. Onde-onde           : Rp   800\")\n",
        "    print(\" 4. Lemper              : Rp 1.250\")\n",
        "    print(\" 5. Risol               : Rp.1.500\")\n",
        "    print(\" ========================================\")\n",
        "    listMenu=str(input(\" Masukkan angka sesuai dengan menu yang tersedia = \"))\n",
        "    jumlahPesanan=int(input(\" Jumlah = \"))\n",
        "    if listMenu == \"1\":\n",
        "        namaMenu= \" Donat \"\n",
        "        harga=(1250*jumlahPesanan)\n",
        "        if jumlahPesanan >= 5:\n",
        "            totalHarga=int(harga)\n",
        "        else:\n",
        "            totalHarga=int(harga)\n",
        "    elif listMenu == \"2\":\n",
        "        namaMenu= \" Bakwan \"\n",
        "        harga = (1000*jumlahPesanan)\n",
        "        if jumlahPesanan >= 5:\n",
        "            totalHarga =int(harga)\n",
        "        else:\n",
        "            totalHarga =int(harga)\n",
        "    elif listMenu == \"3\":\n",
        "        namaMenu= \" Onde-onde \"\n",
        "        harga=int(800*jumlahPesanan)\n",
        "        totalHarga=int(harga)\n",
        "    elif listMenu == \"4\":\n",
        "        namaMenu= \" Lemper\"\n",
        "        harga=int(1250*jumlahPesanan)\n",
        "        totalHarga = int(harga)\n",
        "    elif listMenu == \"5\":\n",
        "        namaMenu= \" Risol\"\n",
        "        harga=int(1500*jumlahPesanan)\n",
        "        totalHarga = int(harga)\n",
        "    else:\n",
        "        menu=input(\" Maaf,Menu yang dipilih tidak tersedia di sini\")\n",
        "\n",
        "    print(\" kamu memesan\",namaMenu)\n",
        "    print(\" dengan harga\", harga)\n",
        "    jawab = input(\" Lanjut atau cukup ? \")\n",
        "    if jawab == 'cukup':\n",
        "      break\n",
        "\n",
        "print(f\"Terima kasih sudah berbelanja jajanan pasar kami!\")"
      ],
      "metadata": {
        "id": "E7_NF2zINVyd"
      },
      "execution_count": null,
      "outputs": []
    },
    {
      "cell_type": "markdown",
      "source": [
        "NOMOR 8"
      ],
      "metadata": {
        "id": "rNxbb4Rxd5tz"
      }
    },
    {
      "cell_type": "code",
      "source": [
        "menu = \"y\" or \"Y\"\n",
        "while menu == \"y\" or \"Y\":\n",
        "    print(\" ========================================\")\n",
        "    print(\" Selamat Datang\")\n",
        "    print(\" List Jajanan Pasar\")\n",
        " \n",
        "    print(\" ========================================\")\n",
        "    print(\" 1. Donat               : Rp 1.250\")\n",
        "    print(\" 2. Bakwan              : Rp 1.000\")\n",
        "    print(\" 3. Onde-onde           : Rp   800\")\n",
        "    print(\" 4. Lemper              : Rp 1.250\")\n",
        "    print(\" 5. Risol               : Rp.1.500\")\n",
        "    print(\" ========================================\")\n",
        "    listMenu=str(input(\" Masukkan angka sesuai dengan menu yang tersedia = \"))\n",
        "    jumlahPesanan=int(input(\" Jumlah = \"))\n",
        "    if listMenu == \"1\":\n",
        "        namaMenu= \" Donat \"\n",
        "        harga=(1250*jumlahPesanan)\n",
        "        if jumlahPesanan >= 5:\n",
        "            totalHarga=int(harga)\n",
        "        else:\n",
        "            totalHarga=int(harga)\n",
        "    elif listMenu == \"2\":\n",
        "        namaMenu= \" Bakwan \"\n",
        "        harga = (1000*jumlahPesanan)\n",
        "        if jumlahPesanan >= 5:\n",
        "            totalHarga =int(harga)\n",
        "        else:\n",
        "            totalHarga =int(harga)\n",
        "    elif listMenu == \"3\":\n",
        "        namaMenu= \" Onde-onde \"\n",
        "        harga=int(800*jumlahPesanan)\n",
        "        totalHarga=int(harga)\n",
        "    elif listMenu == \"4\":\n",
        "        namaMenu= \" Lemper\"\n",
        "        harga=int(1250*jumlahPesanan)\n",
        "        totalHarga = int(harga)\n",
        "    elif listMenu == \"5\":\n",
        "        namaMenu= \" Risol\"\n",
        "        harga=int(1500*jumlahPesanan)\n",
        "        totalHarga = int(harga)\n",
        "    else:\n",
        "        menu=input(\" Maaf,Menu yang dipilih tidak tersedia di sini\")\n",
        " \n",
        "    print(\" ------------------------------\")\n",
        "    print(\" Menu :\",namaMenu)\n",
        "    print(\" Jumlah Pesanan :\", jumlahPesanan)\n",
        "    print(\" Harga :\", harga)\n",
        "    print(\" ------------------------------\")\n",
        "    print(\" Total Pembayaran :\", totalHarga)\n",
        "    print(\" ------------------------------\")\n",
        "    menu=input(\" Mau pesan lagi? pilih Y jika Ya, pilih N jika Tidak (Y/N) = \")"
      ],
      "metadata": {
        "id": "cuvSi2u1QPtm"
      },
      "execution_count": null,
      "outputs": []
    },
    {
      "cell_type": "code",
      "source": [
        ""
      ],
      "metadata": {
        "id": "L5pIEsm2eOh0"
      },
      "execution_count": null,
      "outputs": []
    }
  ]
}
{
  "nbformat": 4,
  "nbformat_minor": 0,
  "metadata": {
    "colab": {
      "name": "Untitled6.ipynb",
      "provenance": []
    },
    "kernelspec": {
      "name": "python3",
      "display_name": "Python 3"
    },
    "language_info": {
      "name": "python"
    }
  },
  "cells": [
    {
      "cell_type": "markdown",
      "source": [
        "NOMOR 1"
      ],
      "metadata": {
        "id": "sJxRpvwTHhcm"
      }
    },
    {
      "cell_type": "code",
      "execution_count": 5,
      "metadata": {
        "colab": {
          "base_uri": "https://localhost:8080/"
        },
        "id": "saVVawMKB5HZ",
        "outputId": "3d0c2fea-f204-4604-9248-2ec69bfb027b"
      },
      "outputs": [
        {
          "output_type": "stream",
          "name": "stdout",
          "text": [
            "False\n",
            "True\n"
          ]
        }
      ],
      "source": [
        "def divisible (m,n):\n",
        "    if (m % n == 0):\n",
        "        return True\n",
        "\n",
        "    else :\n",
        "        return False\n",
        "\n",
        "print(divisible(22,5))\n",
        "print(divisible(80,20))"
      ]
    },
    {
      "cell_type": "markdown",
      "source": [
        "NOMOR 2"
      ],
      "metadata": {
        "id": "iAr4-DXTHnhG"
      }
    },
    {
      "cell_type": "code",
      "source": [
        "def main_menu():\n",
        "    print(\"Welcome In MPENG RESTO\")\n",
        "    print('==========================')\n",
        "    print(\"========MAIN MENU=========\")\n",
        "    print(\" 1. Soup and salad        \")\n",
        "    print(\" 2. Pasta with meat sauce \")\n",
        "    print(\" 3. Chef’s special        \")\n",
        "    print('==========================')\n",
        "    \n",
        "    number = input(\"Which number would you like to order ? \")\n",
        "    if number == '1':\n",
        "        print('One Soup and salad coming right up!')\n",
        "    elif number == '2':\n",
        "        print('One Pasta with meat sauce coming right up!')\n",
        "    elif number == '3':\n",
        "        print('One Chef’s special coming right up!')\n",
        "    else :\n",
        "        print('Sorry, that is not a valid choice.')\n",
        "# main program\n",
        "if __name__=='__main__':\n",
        "    main_menu()"
      ],
      "metadata": {
        "colab": {
          "base_uri": "https://localhost:8080/"
        },
        "id": "0gHsVA1MHpiQ",
        "outputId": "1b5fdcc2-dae6-4ec0-decc-4efdd000c781"
      },
      "execution_count": 8,
      "outputs": [
        {
          "output_type": "stream",
          "name": "stdout",
          "text": [
            "Welcome In MPENG Cafe\n",
            "==========================\n",
            "========MAIN MENU=========\n",
            " 1. Soup and salad        \n",
            " 2. Pasta with meat sauce \n",
            " 3. Chef’s special        \n",
            "==========================\n",
            "Which number would you like to order ? 1\n",
            "One Soup and salad coming right up!\n"
          ]
        }
      ]
    },
    {
      "cell_type": "markdown",
      "source": [
        "NOMOR 3"
      ],
      "metadata": {
        "id": "2AootcE8IQ4t"
      }
    },
    {
      "cell_type": "code",
      "source": [
        "def rand_divis_3 ():\n",
        "    x=int(input(\"Masukkan bilangan: \"))\n",
        "    \n",
        "    if (x % 3 == 0):\n",
        "        return True\n",
        "\n",
        "    else :\n",
        "        return False\n",
        "print(rand_divis_3())"
      ],
      "metadata": {
        "colab": {
          "base_uri": "https://localhost:8080/"
        },
        "id": "D0Ziy7FpISwO",
        "outputId": "2de4ebe3-c01b-47ec-8ac1-ae465638ba4c"
      },
      "execution_count": 9,
      "outputs": [
        {
          "output_type": "stream",
          "name": "stdout",
          "text": [
            "Masukkan bilangan: 3\n",
            "True\n"
          ]
        }
      ]
    },
    {
      "cell_type": "markdown",
      "source": [
        "NOMOR 4"
      ],
      "metadata": {
        "id": "rklNUsEfIZEU"
      }
    },
    {
      "cell_type": "code",
      "source": [
        "1 != 1"
      ],
      "metadata": {
        "colab": {
          "base_uri": "https://localhost:8080/"
        },
        "id": "ILxrKiGBIgAc",
        "outputId": "eb4133f1-65ed-47e0-ecef-902ff6b29b74"
      },
      "execution_count": 10,
      "outputs": [
        {
          "output_type": "execute_result",
          "data": {
            "text/plain": [
              "False"
            ]
          },
          "metadata": {},
          "execution_count": 10
        }
      ]
    },
    {
      "cell_type": "code",
      "source": [
        "def not_equal(x,y):\n",
        "    if (x != y):\n",
        "        return True\n",
        "    else :\n",
        "        return False\n",
        "print(not_equal(3,2))"
      ],
      "metadata": {
        "colab": {
          "base_uri": "https://localhost:8080/"
        },
        "id": "7ZSJKgS9IhqU",
        "outputId": "59e6adec-7ee9-41cf-96a6-fe87d0d073d6"
      },
      "execution_count": 11,
      "outputs": [
        {
          "output_type": "stream",
          "name": "stdout",
          "text": [
            "True\n"
          ]
        }
      ]
    },
    {
      "cell_type": "code",
      "source": [
        "def not_equal(x,y):\n",
        "    if (not (x == y)):\n",
        "        return True\n",
        "    else :\n",
        "        return False\n",
        "print(not_equal(3,2))"
      ],
      "metadata": {
        "colab": {
          "base_uri": "https://localhost:8080/"
        },
        "id": "8jwOECstIkHs",
        "outputId": "55c0ab52-9fe3-4d7a-f207-694a8fedc878"
      },
      "execution_count": 12,
      "outputs": [
        {
          "output_type": "stream",
          "name": "stdout",
          "text": [
            "True\n"
          ]
        }
      ]
    },
    {
      "cell_type": "markdown",
      "source": [
        "NOMOR 5"
      ],
      "metadata": {
        "id": "CXJa1aJKIofm"
      }
    },
    {
      "cell_type": "code",
      "source": [
        "def ask_name():\n",
        "    name = input(\"Enter your name: \")\n",
        "\n",
        "ask_name()\n",
        "print(\"Your name is\", name)"
      ],
      "metadata": {
        "colab": {
          "base_uri": "https://localhost:8080/",
          "height": 217
        },
        "id": "IE2UiK2hIl5s",
        "outputId": "e99f1199-5036-4035-8d64-ea728072a5fb"
      },
      "execution_count": 13,
      "outputs": [
        {
          "name": "stdout",
          "output_type": "stream",
          "text": [
            "Enter your name: eMUU\n"
          ]
        },
        {
          "output_type": "error",
          "ename": "NameError",
          "evalue": "ignored",
          "traceback": [
            "\u001b[0;31m---------------------------------------------------------------------------\u001b[0m",
            "\u001b[0;31mNameError\u001b[0m                                 Traceback (most recent call last)",
            "\u001b[0;32m<ipython-input-13-35bee748c4ab>\u001b[0m in \u001b[0;36m<module>\u001b[0;34m()\u001b[0m\n\u001b[1;32m      3\u001b[0m \u001b[0;34m\u001b[0m\u001b[0m\n\u001b[1;32m      4\u001b[0m \u001b[0mask_name\u001b[0m\u001b[0;34m(\u001b[0m\u001b[0;34m)\u001b[0m\u001b[0;34m\u001b[0m\u001b[0;34m\u001b[0m\u001b[0m\n\u001b[0;32m----> 5\u001b[0;31m \u001b[0mprint\u001b[0m\u001b[0;34m(\u001b[0m\u001b[0;34m\"Your name is\"\u001b[0m\u001b[0;34m,\u001b[0m \u001b[0mname\u001b[0m\u001b[0;34m)\u001b[0m\u001b[0;34m\u001b[0m\u001b[0;34m\u001b[0m\u001b[0m\n\u001b[0m",
            "\u001b[0;31mNameError\u001b[0m: name 'name' is not defined"
          ]
        }
      ]
    },
    {
      "cell_type": "code",
      "source": [
        "name = input(\"Enter your name: \")\n",
        "print(\"Your name is\", name)\n",
        "print ('atau')\n",
        "def ask_name(name):\n",
        "    print(\"Your name is\", name)\n",
        "ask_name(\"Emuu\")"
      ],
      "metadata": {
        "colab": {
          "base_uri": "https://localhost:8080/"
        },
        "id": "4Tdp1HBCItp8",
        "outputId": "46a9ad30-0181-40f3-a137-5c992feecf3d"
      },
      "execution_count": 15,
      "outputs": [
        {
          "output_type": "stream",
          "name": "stdout",
          "text": [
            "Enter your name: zaenal\n",
            "Your name is zaenal\n",
            "atau\n",
            "Your name is Emuu\n"
          ]
        }
      ]
    }
  ]
}